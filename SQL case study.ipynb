{
 "cells": [
  {
   "cell_type": "code",
   "execution_count": 1,
   "metadata": {},
   "outputs": [],
   "source": [
    "import os"
   ]
  },
  {
   "cell_type": "code",
   "execution_count": 2,
   "metadata": {},
   "outputs": [
    {
     "data": {
      "text/plain": [
       "'C:\\\\Users\\\\alicele'"
      ]
     },
     "execution_count": 2,
     "metadata": {},
     "output_type": "execute_result"
    }
   ],
   "source": [
    "os.getcwd()"
   ]
  },
  {
   "cell_type": "code",
   "execution_count": 3,
   "metadata": {},
   "outputs": [],
   "source": [
    "os.chdir('C:\\\\Users\\\\alicele\\\\Downloads\\\\1602668743_SQLFiles_Tier_1_updated_10_13_2020')"
   ]
  },
  {
   "cell_type": "code",
   "execution_count": 4,
   "metadata": {},
   "outputs": [
    {
     "data": {
      "text/plain": [
       "'C:\\\\Users\\\\alicele\\\\Downloads\\\\1602668743_SQLFiles_Tier_1_updated_10_13_2020'"
      ]
     },
     "execution_count": 4,
     "metadata": {},
     "output_type": "execute_result"
    }
   ],
   "source": [
    "os.getcwd()"
   ]
  },
  {
   "cell_type": "code",
   "execution_count": 43,
   "metadata": {},
   "outputs": [],
   "source": [
    "query1 = \"\"\"\n",
    "SELECT fac.name\n",
    ", SUM(CASE WHEN bo.memid = 0 THEN (bo.slots*fac.guestcost) \n",
    "  ELSE (bo.slots*fac.membercost) END) AS total_revenue\n",
    "FROM FACILITIES fac\n",
    "JOIN BOOKINGS bo\n",
    "ON bo.facid = fac.facid\n",
    "GROUP BY fac.name\n",
    "HAVING total_revenue < 1000\n",
    "ORDER BY total_revenue DESC\n",
    "\"\"\"\n",
    "\n",
    "query2 = \"\"\"\n",
    "SELECT mem1.firstname\n",
    ", mem1.surname\n",
    ", mem2.firstname || \"\"||mem2.surname as recommendedby\n",
    "FROM MEMBERS AS mem1\n",
    "LEFT JOIN MEMBERS AS mem2\n",
    "ON mem1.recommendedby = mem2.memid\n",
    "ORDER BY mem1.firstname, mem1.surname\n",
    "\"\"\"\n",
    "\n",
    "query3 = \"\"\"\n",
    "SELECT facid\n",
    ", COUNT(memid) AS member_usage\n",
    "FROM BOOKINGS \n",
    "WHERE memid != 0\n",
    "GROUP BY facid\n",
    "\"\"\"\n",
    "\n",
    "query4 = \"\"\"\n",
    "SELECT facid\n",
    ", COUNT (DISTINCT strftime('%M',starttime)) AS month_usage\n",
    "FROM BOOKINGS\n",
    "WHERE memid != 0\n",
    "GROUP BY facid\n",
    "\"\"\"\n"
   ]
  },
  {
   "cell_type": "markdown",
   "metadata": {},
   "source": [
    "Q10: Produce a list of facilities with a total revenue less than 1000.\n",
    "The output of facility name and total revenue, sorted by revenue. Remember\n",
    "that there's a different cost for guests and members!"
   ]
  },
  {
   "cell_type": "code",
   "execution_count": 13,
   "metadata": {},
   "outputs": [
    {
     "name": "stdout",
     "output_type": "stream",
     "text": [
      "2.6.0\n",
      "2. Query all tasks\n",
      "('Pool Table', 270)\n",
      "('Snooker Table', 240)\n",
      "('Table Tennis', 180)\n"
     ]
    }
   ],
   "source": [
    "\n",
    "import sqlite3\n",
    "from sqlite3 import Error\n",
    "\n",
    " \n",
    "def create_connection(db_file):\n",
    "    \"\"\" create a database connection to the SQLite database\n",
    "        specified by the db_file\n",
    "    :param db_file: database file\n",
    "    :return: Connection object or None\n",
    "    \"\"\"\n",
    "    conn = None\n",
    "    try:\n",
    "        conn = sqlite3.connect(db_file)\n",
    "        print(sqlite3.version)\n",
    "    except Error as e:\n",
    "        print(e)\n",
    " \n",
    "    return conn\n",
    "\n",
    " \n",
    "def select_all_tasks(conn):\n",
    "    \"\"\"\n",
    "    Query all rows in the tasks table\n",
    "    :param conn: the Connection object\n",
    "    :return:\n",
    "    \"\"\"\n",
    "    cur = conn.cursor()\n",
    "    \n",
    "    cur.execute(query1)\n",
    " \n",
    "    rows = cur.fetchall()\n",
    " \n",
    "    for row in rows:\n",
    "        print(row)\n",
    "\n",
    "\n",
    "def main():\n",
    "    database = r\"C:\\\\Users\\\\alicele\\\\Downloads\\\\1602668743_SQLFiles_Tier_1_updated_10_13_2020\\\\SQLFiles Tier 1\\\\sqlite_db_pythonsqlite.db\"\n",
    " \n",
    "    # create a database connection\n",
    "    conn = create_connection(database)\n",
    "    with conn: \n",
    "        print(\"2. Query all tasks\")\n",
    "        select_all_tasks(conn)\n",
    " \n",
    " \n",
    "if __name__ == '__main__':\n",
    "    main()"
   ]
  },
  {
   "cell_type": "markdown",
   "metadata": {},
   "source": [
    "https://www.sqlitetutorial.net/sqlite-python/sqlite-python-select/"
   ]
  },
  {
   "cell_type": "markdown",
   "metadata": {},
   "source": [
    "Q11: Produce a report of members and who recommended them in alphabetic surname,firstname order"
   ]
  },
  {
   "cell_type": "code",
   "execution_count": 44,
   "metadata": {},
   "outputs": [
    {
     "name": "stdout",
     "output_type": "stream",
     "text": [
      "2.6.0\n",
      "2. Query all tasks\n",
      "('Anna', 'Mackenzie', 'DarrenSmith')\n",
      "('Anne', 'Baker', 'PonderStibbons')\n",
      "('Burton', 'Tracy', None)\n",
      "('Charles', 'Owen', 'DarrenSmith')\n",
      "('Darren', 'Smith', None)\n",
      "('Darren', 'Smith', None)\n",
      "('David', 'Farrell', None)\n",
      "('David', 'Jones', 'JaniceJoplette')\n",
      "('David', 'Pinker', 'JemimaFarrell')\n",
      "('Douglas', 'Jones', 'DavidJones')\n",
      "('Erica', 'Crumpet', 'TracySmith')\n",
      "('Florence', 'Bader', 'PonderStibbons')\n",
      "('GUEST', 'GUEST', None)\n",
      "('Gerald', 'Butters', 'DarrenSmith')\n",
      "('Henrietta', 'Rumney', 'MatthewGenting')\n",
      "('Henry', 'Worthington-Smyth', 'TracySmith')\n",
      "('Hyacinth', 'Tupperware', None)\n",
      "('Jack', 'Smith', 'DarrenSmith')\n",
      "('Janice', 'Joplette', 'DarrenSmith')\n",
      "('Jemima', 'Farrell', None)\n",
      "('Joan', 'Coplin', 'TimothyBaker')\n",
      "('John', 'Hunt', 'MillicentPurview')\n",
      "('Matthew', 'Genting', 'GeraldButters')\n",
      "('Millicent', 'Purview', 'TracySmith')\n",
      "('Nancy', 'Dare', 'JaniceJoplette')\n",
      "('Ponder', 'Stibbons', 'BurtonTracy')\n",
      "('Ramnaresh', 'Sarwin', 'FlorenceBader')\n",
      "('Tim', 'Boothe', 'TimRownam')\n",
      "('Tim', 'Rownam', None)\n",
      "('Timothy', 'Baker', 'JemimaFarrell')\n",
      "('Tracy', 'Smith', None)\n"
     ]
    }
   ],
   "source": [
    "def select_all_tasks(conn):\n",
    "    \"\"\"\n",
    "    Query all rows in the tasks table\n",
    "    :param conn: the Connection object\n",
    "    :return:\n",
    "    \"\"\"\n",
    "    cur = conn.cursor()\n",
    "    \n",
    "    cur.execute(query2)\n",
    " \n",
    "    rows = cur.fetchall()\n",
    " \n",
    "    for row in rows:\n",
    "        print(row)\n",
    "\n",
    "\n",
    "if __name__ == '__main__':\n",
    "    main()"
   ]
  },
  {
   "cell_type": "markdown",
   "metadata": {},
   "source": [
    "Q12: Find the facilities with their usage by member, but not guests"
   ]
  },
  {
   "cell_type": "code",
   "execution_count": 30,
   "metadata": {},
   "outputs": [
    {
     "name": "stdout",
     "output_type": "stream",
     "text": [
      "2.6.0\n",
      "2. Query all tasks\n",
      "(0, 308)\n",
      "(1, 276)\n",
      "(2, 344)\n",
      "(3, 385)\n",
      "(4, 421)\n",
      "(5, 27)\n",
      "(6, 195)\n",
      "(7, 421)\n",
      "(8, 783)\n"
     ]
    }
   ],
   "source": [
    "def select_all_tasks(conn):\n",
    "    \"\"\"\n",
    "    Query all rows in the tasks table\n",
    "    :param conn: the Connection object\n",
    "    :return:\n",
    "    \"\"\"\n",
    "    cur = conn.cursor()\n",
    "    \n",
    "    cur.execute(query3)\n",
    " \n",
    "    rows = cur.fetchall()\n",
    " \n",
    "    for row in rows:\n",
    "        print(row)\n",
    "\n",
    "\n",
    "if __name__ == '__main__':\n",
    "    main()"
   ]
  },
  {
   "cell_type": "markdown",
   "metadata": {},
   "source": [
    "Q13: Find the facilities usage by month, but not guests"
   ]
  },
  {
   "cell_type": "code",
   "execution_count": 40,
   "metadata": {},
   "outputs": [
    {
     "name": "stdout",
     "output_type": "stream",
     "text": [
      "2.6.0\n",
      "2. Query all tasks\n",
      "(0, 2)\n",
      "(1, 2)\n",
      "(2, 2)\n",
      "(3, 2)\n",
      "(4, 2)\n",
      "(5, 2)\n",
      "(6, 2)\n",
      "(7, 2)\n",
      "(8, 2)\n"
     ]
    }
   ],
   "source": [
    "def select_all_tasks(conn):\n",
    "    \"\"\"\n",
    "    Query all rows in the tasks table\n",
    "    :param conn: the Connection object\n",
    "    :return:\n",
    "    \"\"\"\n",
    "    cur = conn.cursor()\n",
    "    \n",
    "    cur.execute(query4)\n",
    " \n",
    "    rows = cur.fetchall()\n",
    " \n",
    "    for row in rows:\n",
    "        print(row)\n",
    "\n",
    "\n",
    "if __name__ == '__main__':\n",
    "    main()"
   ]
  },
  {
   "cell_type": "code",
   "execution_count": null,
   "metadata": {},
   "outputs": [],
   "source": []
  }
 ],
 "metadata": {
  "kernelspec": {
   "display_name": "Python 3",
   "language": "python",
   "name": "python3"
  },
  "language_info": {
   "codemirror_mode": {
    "name": "ipython",
    "version": 3
   },
   "file_extension": ".py",
   "mimetype": "text/x-python",
   "name": "python",
   "nbconvert_exporter": "python",
   "pygments_lexer": "ipython3",
   "version": "3.8.5"
  }
 },
 "nbformat": 4,
 "nbformat_minor": 4
}
